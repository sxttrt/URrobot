{
 "cells": [
  {
   "cell_type": "code",
   "execution_count": 13,
   "metadata": {},
   "outputs": [
    {
     "name": "stdout",
     "output_type": "stream",
     "text": [
      "10141.42857142857\n",
      "3.080592631259184\n"
     ]
    }
   ],
   "source": [
    "import numpy as np\n",
    "\n",
    "\n",
    "width = 20\n",
    "max_grasp_width = 12000 \n",
    "\n",
    "grasp_width =max_grasp_width - (width/10 - 0.0485)/0.00105\n",
    "\n",
    "\n",
    "z_drop = -1.6883e-8 * (12000-grasp_width)**2 - 6.004e-5 * (12000-grasp_width )+ 3.2505\n",
    "\n",
    "print(grasp_width)  \n",
    "print(z_drop)  "
   ]
  },
  {
   "cell_type": "code",
   "execution_count": null,
   "metadata": {},
   "outputs": [],
   "source": []
  }
 ],
 "metadata": {
  "kernelspec": {
   "display_name": "Python 3",
   "language": "python",
   "name": "python3"
  },
  "language_info": {
   "codemirror_mode": {
    "name": "ipython",
    "version": 3
   },
   "file_extension": ".py",
   "mimetype": "text/x-python",
   "name": "python",
   "nbconvert_exporter": "python",
   "pygments_lexer": "ipython3",
   "version": "3.9.12"
  }
 },
 "nbformat": 4,
 "nbformat_minor": 2
}
